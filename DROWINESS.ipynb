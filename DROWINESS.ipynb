{
  "nbformat": 4,
  "nbformat_minor": 0,
  "metadata": {
    "colab": {
      "name": "Untitled4.ipynb",
      "provenance": [],
      "collapsed_sections": []
    },
    "kernelspec": {
      "name": "python3",
      "display_name": "Python 3"
    }
  },
  "cells": [
    {
      "cell_type": "code",
      "metadata": {
        "id": "GdzwjlwUsZ9B",
        "colab_type": "code",
        "colab": {
          "base_uri": "https://localhost:8080/",
          "height": 34
        },
        "outputId": "6b1ae10e-8631-4c13-aff4-f27557671bb2"
      },
      "source": [
        "pip install dlib"
      ],
      "execution_count": 1,
      "outputs": [
        {
          "output_type": "stream",
          "text": [
            "Requirement already satisfied: dlib in /usr/local/lib/python3.6/dist-packages (19.18.0)\n"
          ],
          "name": "stdout"
        }
      ]
    },
    {
      "cell_type": "code",
      "metadata": {
        "id": "jjDSZZOescyg",
        "colab_type": "code",
        "colab": {}
      },
      "source": [
        "from scipy.spatial import distance as dist\n",
        "from imutils import face_utils\n",
        "from threading import Thread\n",
        "import dlib\n",
        "import cv2"
      ],
      "execution_count": 6,
      "outputs": []
    },
    {
      "cell_type": "code",
      "metadata": {
        "id": "MIIU2ndpsfhL",
        "colab_type": "code",
        "colab": {}
      },
      "source": [
        "face_cascade = cv2.CascadeClassifier('haarcascade_frontalface_default.xml')\n",
        "eye_cascade = cv2.CascadeClassifier('haarcascade_eye_tree_eyeglasses.xml')\n"
      ],
      "execution_count": 23,
      "outputs": []
    },
    {
      "cell_type": "code",
      "metadata": {
        "id": "AIuh0l-EtZoj",
        "colab_type": "code",
        "colab": {}
      },
      "source": [
        "predictor = dlib.shape_predictor('shape_predictor_68_face_landmarks.dat')"
      ],
      "execution_count": 14,
      "outputs": []
    },
    {
      "cell_type": "code",
      "metadata": {
        "id": "O6MpUJRDtVDE",
        "colab_type": "code",
        "colab": {}
      },
      "source": [
        "EYE_AR_THRESH = 0.25\n",
        "EYE_AR_CONSEC_FRAMES = 20\n",
        "COUNTER = 0"
      ],
      "execution_count": 49,
      "outputs": []
    },
    {
      "cell_type": "code",
      "metadata": {
        "id": "H3sW0c6m3gNb",
        "colab_type": "code",
        "colab": {}
      },
      "source": [
        ""
      ],
      "execution_count": 19,
      "outputs": []
    },
    {
      "cell_type": "code",
      "metadata": {
        "id": "5xOpk7AtstBq",
        "colab_type": "code",
        "colab": {}
      },
      "source": [
        "def eye_aspect_ratio(eye):\n",
        "    A = dist.euclidean(eye[1], eye[5])\n",
        "    B = dist.euclidean(eye[2], eye[4])\n",
        "\n",
        "    C = dist.euclidean(eye[0], eye[3])\n",
        "\n",
        "    ear = (A + B) / (2.0 * C)\n",
        "\n",
        "    return ear"
      ],
      "execution_count": 9,
      "outputs": []
    },
    {
      "cell_type": "code",
      "metadata": {
        "id": "dn0b4i2DtFZ1",
        "colab_type": "code",
        "colab": {}
      },
      "source": [
        "def final_ear(shape):\n",
        "    (lStart, lEnd) = face_utils.FACIAL_LANDMARKS_IDXS[\"left_eye\"]\n",
        "    (rStart, rEnd) = face_utils.FACIAL_LANDMARKS_IDXS[\"right_eye\"]\n",
        "\n",
        "    leftEye = shape[lStart:lEnd]\n",
        "    rightEye = shape[rStart:rEnd]\n",
        "\n",
        "    leftEAR = eye_aspect_ratio(leftEye)\n",
        "    rightEAR = eye_aspect_ratio(rightEye)\n",
        "\n",
        "    ear = (leftEAR + rightEAR) / 2.0\n",
        "    return (ear, leftEye, rightEye)"
      ],
      "execution_count": 10,
      "outputs": []
    },
    {
      "cell_type": "code",
      "metadata": {
        "id": "N6t-5uRf3Pr3",
        "colab_type": "code",
        "colab": {}
      },
      "source": [
        "\tcap = cv2.VideoCapture('1.mp4')"
      ],
      "execution_count": 47,
      "outputs": []
    },
    {
      "cell_type": "code",
      "metadata": {
        "id": "IuPG0ScqtHv0",
        "colab_type": "code",
        "colab": {
          "base_uri": "https://localhost:8080/",
          "height": 1000
        },
        "outputId": "2298f9ed-09cc-42f4-f0a2-f2d6066d3bd5"
      },
      "source": [
        "while cap.isOpened():\n",
        "  _, img = cap.read()\n",
        "# img=cv2.imread('2.jpg')\n",
        "  gray = cv2.cvtColor(img, cv2.COLOR_BGR2GRAY)\n",
        "  faces = face_cascade.detectMultiScale(gray, 1.1, 4)\n",
        "  for (x, y , w ,h) in faces:\n",
        "    rect = dlib.rectangle(int(x), int(y), int(x + w),int(y + h))\n",
        "    shape = predictor(gray, rect)\n",
        "    shape = face_utils.shape_to_np(shape)\n",
        "    eye = final_ear(shape)\n",
        "    ear = eye[0]\n",
        "    leftEye = eye[1]\n",
        "    rightEye = eye[2]\n",
        "    # print(ear)\n",
        "    # continue\n",
        "    if ear < EYE_AR_THRESH:\n",
        "      print('SLEEPING')\n",
        "      COUNTER += 1\n",
        "      if COUNTER >= EYE_AR_CONSEC_FRAMES:\n",
        "        cv2.putText(img, \"DROWSINESS ALERT!\", (10, 30),\n",
        "                              cv2.FONT_HERSHEY_SIMPLEX, 0.7, (0, 0, 255), 2)\n",
        "    else:\n",
        "      print('NON-SLEEPING')\n",
        "      COUNTER = 0\n",
        "#     # Display the output\n",
        "# cv2.imshow('img', img)\n",
        "# if cv2.waitKey(1) & 0xFF == ord('q'):\n",
        "#     break\n",
        "\n",
        "# cap.release()"
      ],
      "execution_count": 48,
      "outputs": [
        {
          "output_type": "stream",
          "text": [
            "SLEEPING\n",
            "SLEEPING\n",
            "SLEEPING\n",
            "SLEEPING\n",
            "NON-SLEEPING\n",
            "SLEEPING\n",
            "SLEEPING\n",
            "NON-SLEEPING\n",
            "SLEEPING\n",
            "SLEEPING\n",
            "NON-SLEEPING\n",
            "SLEEPING\n",
            "NON-SLEEPING\n",
            "SLEEPING\n",
            "SLEEPING\n",
            "SLEEPING\n",
            "SLEEPING\n",
            "SLEEPING\n",
            "SLEEPING\n",
            "SLEEPING\n",
            "SLEEPING\n",
            "SLEEPING\n",
            "SLEEPING\n",
            "SLEEPING\n",
            "SLEEPING\n",
            "SLEEPING\n",
            "SLEEPING\n",
            "NON-SLEEPING\n",
            "NON-SLEEPING\n",
            "NON-SLEEPING\n",
            "SLEEPING\n",
            "NON-SLEEPING\n",
            "SLEEPING\n",
            "SLEEPING\n",
            "SLEEPING\n",
            "NON-SLEEPING\n",
            "NON-SLEEPING\n",
            "SLEEPING\n",
            "SLEEPING\n",
            "NON-SLEEPING\n",
            "NON-SLEEPING\n",
            "NON-SLEEPING\n",
            "NON-SLEEPING\n",
            "SLEEPING\n",
            "SLEEPING\n",
            "NON-SLEEPING\n",
            "NON-SLEEPING\n",
            "SLEEPING\n",
            "SLEEPING\n",
            "SLEEPING\n",
            "SLEEPING\n",
            "SLEEPING\n",
            "SLEEPING\n",
            "NON-SLEEPING\n",
            "SLEEPING\n",
            "SLEEPING\n",
            "SLEEPING\n",
            "SLEEPING\n"
          ],
          "name": "stdout"
        },
        {
          "output_type": "error",
          "ename": "KeyboardInterrupt",
          "evalue": "ignored",
          "traceback": [
            "\u001b[0;31m---------------------------------------------------------------------------\u001b[0m",
            "\u001b[0;31mKeyboardInterrupt\u001b[0m                         Traceback (most recent call last)",
            "\u001b[0;32m<ipython-input-48-4384185d9cb8>\u001b[0m in \u001b[0;36m<module>\u001b[0;34m()\u001b[0m\n\u001b[1;32m      3\u001b[0m \u001b[0;31m# img=cv2.imread('2.jpg')\u001b[0m\u001b[0;34m\u001b[0m\u001b[0;34m\u001b[0m\u001b[0;34m\u001b[0m\u001b[0m\n\u001b[1;32m      4\u001b[0m   \u001b[0mgray\u001b[0m \u001b[0;34m=\u001b[0m \u001b[0mcv2\u001b[0m\u001b[0;34m.\u001b[0m\u001b[0mcvtColor\u001b[0m\u001b[0;34m(\u001b[0m\u001b[0mimg\u001b[0m\u001b[0;34m,\u001b[0m \u001b[0mcv2\u001b[0m\u001b[0;34m.\u001b[0m\u001b[0mCOLOR_BGR2GRAY\u001b[0m\u001b[0;34m)\u001b[0m\u001b[0;34m\u001b[0m\u001b[0;34m\u001b[0m\u001b[0m\n\u001b[0;32m----> 5\u001b[0;31m   \u001b[0mfaces\u001b[0m \u001b[0;34m=\u001b[0m \u001b[0mface_cascade\u001b[0m\u001b[0;34m.\u001b[0m\u001b[0mdetectMultiScale\u001b[0m\u001b[0;34m(\u001b[0m\u001b[0mgray\u001b[0m\u001b[0;34m,\u001b[0m \u001b[0;36m1.1\u001b[0m\u001b[0;34m,\u001b[0m \u001b[0;36m4\u001b[0m\u001b[0;34m)\u001b[0m\u001b[0;34m\u001b[0m\u001b[0;34m\u001b[0m\u001b[0m\n\u001b[0m\u001b[1;32m      6\u001b[0m   \u001b[0;32mfor\u001b[0m \u001b[0;34m(\u001b[0m\u001b[0mx\u001b[0m\u001b[0;34m,\u001b[0m \u001b[0my\u001b[0m \u001b[0;34m,\u001b[0m \u001b[0mw\u001b[0m \u001b[0;34m,\u001b[0m\u001b[0mh\u001b[0m\u001b[0;34m)\u001b[0m \u001b[0;32min\u001b[0m \u001b[0mfaces\u001b[0m\u001b[0;34m:\u001b[0m\u001b[0;34m\u001b[0m\u001b[0;34m\u001b[0m\u001b[0m\n\u001b[1;32m      7\u001b[0m     \u001b[0mrect\u001b[0m \u001b[0;34m=\u001b[0m \u001b[0mdlib\u001b[0m\u001b[0;34m.\u001b[0m\u001b[0mrectangle\u001b[0m\u001b[0;34m(\u001b[0m\u001b[0mint\u001b[0m\u001b[0;34m(\u001b[0m\u001b[0mx\u001b[0m\u001b[0;34m)\u001b[0m\u001b[0;34m,\u001b[0m \u001b[0mint\u001b[0m\u001b[0;34m(\u001b[0m\u001b[0my\u001b[0m\u001b[0;34m)\u001b[0m\u001b[0;34m,\u001b[0m \u001b[0mint\u001b[0m\u001b[0;34m(\u001b[0m\u001b[0mx\u001b[0m \u001b[0;34m+\u001b[0m \u001b[0mw\u001b[0m\u001b[0;34m)\u001b[0m\u001b[0;34m,\u001b[0m\u001b[0mint\u001b[0m\u001b[0;34m(\u001b[0m\u001b[0my\u001b[0m \u001b[0;34m+\u001b[0m \u001b[0mh\u001b[0m\u001b[0;34m)\u001b[0m\u001b[0;34m)\u001b[0m\u001b[0;34m\u001b[0m\u001b[0;34m\u001b[0m\u001b[0m\n",
            "\u001b[0;31mKeyboardInterrupt\u001b[0m: "
          ]
        }
      ]
    },
    {
      "cell_type": "code",
      "metadata": {
        "id": "kPkBNIu90ivq",
        "colab_type": "code",
        "colab": {}
      },
      "source": [
        ""
      ],
      "execution_count": null,
      "outputs": []
    }
  ]
}